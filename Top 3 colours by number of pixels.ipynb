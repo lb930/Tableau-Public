{
 "cells": [
  {
   "cell_type": "code",
   "execution_count": 4,
   "metadata": {},
   "outputs": [],
   "source": [
    "from PIL import Image\n",
    "import os\n",
    "import pandas as pd\n",
    "from collections import Counter"
   ]
  },
  {
   "cell_type": "code",
   "execution_count": 5,
   "metadata": {},
   "outputs": [],
   "source": [
    "def most_frequent_colour2(img):\n",
    "    width, height = img.size\n",
    "\n",
    "    colour_total = []\n",
    "\n",
    "    for x in range(0, width):\n",
    "        for y in range(0, height):\n",
    "            \n",
    "            # Define r, g, b for the rgb colour space and fetch the RGB colour for each pixel\n",
    "            r, g, b = img.getpixel((x,y))\n",
    "            rgb = [r, g, b]\n",
    "                \n",
    "            colour_total.append(rgb) \n",
    " \n",
    "    # Count the most common colours\n",
    "    colour_dict = Counter([tuple(i) for i in colour_total])\n",
    "    \n",
    "    # Pick the top 3 most frequent colours\n",
    "    return colour_dict.most_common(3)"
   ]
  },
  {
   "cell_type": "markdown",
   "metadata": {},
   "source": [
    "## For one image"
   ]
  },
  {
   "cell_type": "code",
   "execution_count": 8,
   "metadata": {},
   "outputs": [
    {
     "name": "stdout",
     "output_type": "stream",
     "text": [
      "[((255, 255, 255), 654560), ((21, 34, 69), 136546), ((60, 169, 189), 98707)]\n"
     ]
    }
   ],
   "source": [
    "file = \"Images/#TCEurope18_Tweets_Analysis\"\n",
    "img = Image.open(file)\n",
    "img = img.convert('RGB')\n",
    "colour = most_frequent_colour2(img)\n",
    "\n",
    "print(colour)"
   ]
  },
  {
   "cell_type": "markdown",
   "metadata": {},
   "source": [
    "## For images in a folder"
   ]
  },
  {
   "cell_type": "code",
   "execution_count": null,
   "metadata": {},
   "outputs": [],
   "source": [
    "directory = \"Image\"\n",
    "\n",
    "viz_name = []\n",
    "rgb = []\n",
    "\n",
    "for filename in os.listdir(directory):\n",
    "    \n",
    "    if filename.endswith(\".png\"):\n",
    "        file = (os.path.join(directory, filename))\n",
    "        try:\n",
    "            img = Image.open(file)\n",
    "            img = img.convert('RGB')\n",
    "            \n",
    "            colour = most_frequent_colour2(img)\n",
    "            \n",
    "            viz_name.append(file)\n",
    "            rgb.append([colour])\n",
    "\n",
    "        except:\n",
    "            continue\n",
    "    else:\n",
    "        continue"
   ]
  }
 ],
 "metadata": {
  "kernelspec": {
   "display_name": "Python 3",
   "language": "python",
   "name": "python3"
  },
  "language_info": {
   "codemirror_mode": {
    "name": "ipython",
    "version": 3
   },
   "file_extension": ".py",
   "mimetype": "text/x-python",
   "name": "python",
   "nbconvert_exporter": "python",
   "pygments_lexer": "ipython3",
   "version": "3.7.4"
  }
 },
 "nbformat": 4,
 "nbformat_minor": 4
}
