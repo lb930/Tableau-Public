{
 "cells": [
  {
   "cell_type": "markdown",
   "metadata": {},
   "source": [
    "This code is based on https://github.com/aysebilgegunduz/DominantColor"
   ]
  },
  {
   "cell_type": "code",
   "execution_count": null,
   "metadata": {},
   "outputs": [],
   "source": [
    "import cv2\n",
    "import numpy as np\n",
    "import matplotlib.pyplot as plt\n",
    "from sklearn.cluster import KMeans\n",
    "import pandas as pd\n",
    "import os"
   ]
  },
  {
   "cell_type": "code",
   "execution_count": 1,
   "metadata": {},
   "outputs": [],
   "source": [
    "def find_histogram(clt):\n",
    "    \"\"\"\n",
    "    create a histogram with k clusters\n",
    "    :param: clt\n",
    "    :return:hist\n",
    "    \"\"\"\n",
    "    numLabels = np.arange(0, len(np.unique(clt.labels_)) + 1)\n",
    "    (hist, _) = np.histogram(clt.labels_, bins=numLabels)\n",
    "\n",
    "    hist = hist.astype(\"float\")\n",
    "    hist /= hist.sum()\n",
    "\n",
    "    return hist\n",
    "\n",
    "def plot_colors2(hist, centroids):\n",
    "    bar = np.zeros((50, 300, 3), dtype=\"uint8\")\n",
    "    startX = 0\n",
    "\n",
    "    for (percent, color) in zip(hist, centroids):\n",
    "        # plot the relative percentage of each cluster\n",
    "        endX = startX + (percent * 300)\n",
    "        cv2.rectangle(bar, (int(startX), 0), (int(endX), 50),\n",
    "                      color.astype(\"uint8\").tolist(), -1)\n",
    "        startX = endX\n",
    "\n",
    "    # return the bar chart\n",
    "    return bar"
   ]
  },
  {
   "cell_type": "code",
   "execution_count": null,
   "metadata": {},
   "outputs": [],
   "source": [
    "directory = r\"your_directory\"\n",
    "\n",
    "viz_name = []\n",
    "rgb = []\n",
    "frequency = []\n",
    "\n",
    "for filename in os.listdir(directory):\n",
    "    \n",
    "    if filename.endswith(\".jpg\"):\n",
    "        file = (os.path.join(directory, filename))\n",
    "        \n",
    "        try:\n",
    "            \n",
    "            img = cv2.imread(file)\n",
    "            img = cv2.cvtColor(img, cv2.COLOR_BGR2RGB)\n",
    "\n",
    "            img = img.reshape((img.shape[0] * img.shape[1],3)) #represent as row*column,channel number\n",
    "            clt = KMeans(n_clusters=3) #cluster number\n",
    "            clt.fit(img)\n",
    "\n",
    "            hist = find_histogram(clt)\n",
    "            bar = plot_colors2(hist, clt.cluster_centers_)\n",
    "\n",
    "            # Get unique array rows and frequencies for each colour\n",
    "            (unique, counts) = np.unique(bar[0], axis=0, return_counts = True)\n",
    "\n",
    "            #Turn arrays into lists\n",
    "            unique_list = np.ndarray.tolist(unique)\n",
    "            frequency_list = np.ndarray.tolist(counts)\n",
    "\n",
    "            viz_name.append(file)\n",
    "            rgb.append([unique_list])\n",
    "            frequency.append(frequency_list)\n",
    "\n",
    "        except:\n",
    "            continue\n",
    "    else:\n",
    "        continue"
   ]
  },
  {
   "cell_type": "code",
   "execution_count": null,
   "metadata": {},
   "outputs": [],
   "source": [
    "df = pd.DataFrame({\"Filename\": viz_name, \"RGB\": rgb, \"Frequency\": frequency})\n",
    "pd.options.display.max_colwidth = 200\n",
    "df"
   ]
  }
 ],
 "metadata": {
  "kernelspec": {
   "display_name": "Python 3",
   "language": "python",
   "name": "python3"
  },
  "language_info": {
   "codemirror_mode": {
    "name": "ipython",
    "version": 3
   },
   "file_extension": ".py",
   "mimetype": "text/x-python",
   "name": "python",
   "nbconvert_exporter": "python",
   "pygments_lexer": "ipython3",
   "version": "3.7.4"
  }
 },
 "nbformat": 4,
 "nbformat_minor": 4
}
